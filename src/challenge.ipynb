{
 "cells": [
  {
   "cell_type": "markdown",
   "metadata": {},
   "source": [
    "# Challenge Data Engineer \n",
    "\n",
    "A continuación se evidencia todo el desarrollo del challenge para el puesto Data Engineer. \n",
    "\n",
    "Como consideracones, vamos a suponer que solo teniamos al alcance el procesamiento en una máquina personal, ya que pudimos haber utilizado alguna plataforma cloud con mejor rendimiento como lambda functions en AWS o Cloud functions en GCP. \n",
    "Además, destacar que consideramos como alcance de procesamiento solo el archivo entregado por ustedes. Hablando de un procesamiento automatizado, debiesemos incluir una canalización para el procesamiento de futuros archivos que se incorporen al repositorio (directorio en este caso) y realizar tareas programadas para su ejecución. En fin, estamos obviando que se trata de un procesamiento automatizado.\n",
    "Por último, mencionar que consideramos el input del archivo como su formato entregado, es decir JSON. Es posible que un procesamiento previo a las transformaciones, pudiera entregar un mejor performance al momento de ejecutarlas. \n",
    "\n",
    "Los códigos a continuación presentan leve diferencia entre la optimización de memoria con el tiempo de ejecución, si bien son dos variables que en la mayoría de los casos, disminuian de forma directamente proporcional al optimizar cualquiera de las dos, en un ambiente BIG DATA, los cambios de código podrían mostrar un mayior cambio entre las variables.\n",
    "Un ejemplo de lo anterior, es que nos dimos cuenta que al intentar mejorar el tiempo de ejecución con la biblioteca orjson, esta mejoró considerablemente tanto la memoria como el tiempo para todos los códigos. \n",
    "\n",
    "Para finalizar, considerar ejecutar siempre el primer bloque de código presente en este ipynb para que el resto de los códigos corran correctamente.\n",
    "\n"
   ]
  },
  {
   "cell_type": "code",
   "execution_count": 15,
   "metadata": {},
   "outputs": [
    {
     "name": "stdout",
     "output_type": "stream",
     "text": [
      "El archivo existe en el directorio.\n"
     ]
    }
   ],
   "source": [
    "from time import time\n",
    "import zipfile\n",
    "import os\n",
    "\n",
    "# Nombre del archivo Python\n",
    "file_path = \"farmers-protest-tweets-2021-2-4.json\"\n",
    "\n",
    "# Ruta del archivo ZIP\n",
    "archivo_zip = 'tweets.json.zip'\n",
    "\n",
    "# Validamos si el archivo se encuentra en el directorio\n",
    "\n",
    "if os.path.exists(file_path):\n",
    "    print(\"El archivo existe en el directorio.\")\n",
    "else:\n",
    "    print(\"El archivo no existe en el directorio.\")\n",
    "    \n",
    "    # Descomprimir el archivo ZIP en el mismo directorio\n",
    "    with zipfile.ZipFile(archivo_zip, 'r') as zip_ref:\n",
    "        zip_ref.extractall(os.path.dirname(archivo_zip))\n",
    "    print(\"Archivo descomprimido con éxito.\")\n"
   ]
  },
  {
   "cell_type": "markdown",
   "metadata": {},
   "source": [
    "# Q1 - TOP fechas - Memoria Optimizada: \n",
    "\n",
    "El siguiente código, entrega las 10 fechas donde hay más tweets y con su usuario que más cantidad de tweet realizó optimizando la memoria. \n",
    "\n",
    "A diferencia del código siguiente (Q1_TIME), este código lo que hace es procesar el archivo json línea por línea. Esto hace que no carguemos todo el archivo al mismo tiempo, consumiendo más memoria. Ademas, la práctica dice que pandas es una excelente forma de manejar grandes conjunto de datos, sin embargo, algunas operaciones consumen mucha memoria. Dado lo anterior, se procedió a utilizar la la clase defaultdict que permite contabilizar mientras el archivo se procesa línea por línea. Por último, se podía crear un bucle, pero la función heapq.nlargest permite hacer una busqueda de los valores más grandes de forma eficiente, ya que un bucle tendría que iterar varias veces sobre un mismo conjunto de datos. "
   ]
  },
  {
   "cell_type": "code",
   "execution_count": 16,
   "metadata": {},
   "outputs": [
    {
     "name": "stdout",
     "output_type": "stream",
     "text": [
      "Inicio del proceso\n",
      "[(datetime.date(2021, 2, 12), 'RanbirS00614606'), (datetime.date(2021, 2, 13), 'MaanDee08215437'), (datetime.date(2021, 2, 17), 'RaaJVinderkaur'), (datetime.date(2021, 2, 16), 'jot__b'), (datetime.date(2021, 2, 14), 'rebelpacifist'), (datetime.date(2021, 2, 18), 'neetuanjle_nitu'), (datetime.date(2021, 2, 15), 'jot__b'), (datetime.date(2021, 2, 20), 'MangalJ23056160'), (datetime.date(2021, 2, 23), 'Surrypuria'), (datetime.date(2021, 2, 19), 'Preetm91')]\n",
      "Tiempo de ejecución: 1.9971497058868408\n"
     ]
    }
   ],
   "source": [
    "#Importamos la funcion de archivo python en el mismo directorio\n",
    "from q1_memory import q1_memory\n",
    "\n",
    "#Inicio del marcador para medir tiempo\n",
    "initial_time = time()\n",
    "\n",
    "#Guardamos el resultado\n",
    "resultado_q1_memory = q1_memory(file_path)\n",
    "\n",
    "#Imprimimos\n",
    "print(resultado_q1_memory)\n",
    "print(f\"Tiempo de ejecución: {time() - initial_time}\")"
   ]
  },
  {
   "cell_type": "markdown",
   "metadata": {},
   "source": [
    "# Q1 - TOP fechas - Tiempo Optimizado:\n",
    "\n",
    "El siguiente código, entrega las 10 fechas donde hay más tweets y con su usuario que más cantidad de tweet realizó optimizando el tiempo de ejecución.\n",
    "\n",
    "La diferencia en tiempo con respecto al código anterior (optimizado por memoria) es mínima, sin embargo, la diferencia radica en el conteo de apariciones en los datos. En vez de usar defaultdict, utilizamos un diccionario anidado. Además, en el procesamiento del archivo se eliminaron redundancias dentro del bucle y se determinó que usando setdefault podiamos reducir levemente el tiempo de ejecución debido a su capacidad de busqueda y asignación en una única operación para un diccionario.\n",
    "\n",
    "Realmente es dificil que pudieramos llegar a un tiempo mínimo drastico en comparación al anterior, debido a que la memoria y el tiempo son variables que la mayor parte de las veces mejoran directamente proporcional. "
   ]
  },
  {
   "cell_type": "code",
   "execution_count": 17,
   "metadata": {},
   "outputs": [
    {
     "name": "stdout",
     "output_type": "stream",
     "text": [
      "Inicio del proceso\n",
      "[(datetime.date(2021, 2, 12), 'RanbirS00614606'), (datetime.date(2021, 2, 13), 'MaanDee08215437'), (datetime.date(2021, 2, 17), 'RaaJVinderkaur'), (datetime.date(2021, 2, 16), 'jot__b'), (datetime.date(2021, 2, 14), 'rebelpacifist'), (datetime.date(2021, 2, 18), 'neetuanjle_nitu'), (datetime.date(2021, 2, 15), 'jot__b'), (datetime.date(2021, 2, 20), 'MangalJ23056160'), (datetime.date(2021, 2, 23), 'Surrypuria'), (datetime.date(2021, 2, 19), 'Preetm91')]\n",
      "Tiempo de ejecución: 1.9659302234649658\n"
     ]
    }
   ],
   "source": [
    "#Importamos la funcion de archivo python en el mismo directorio\n",
    "from q1_time import q1_time\n",
    "\n",
    "#Inicio del marcador para medir tiempo\n",
    "initial_time = time()\n",
    "\n",
    "#Guardamos el resultado\n",
    "resultado_q1_time = q1_time(file_path)\n",
    "\n",
    "#Imprimimos\n",
    "print(resultado_q1_time)\n",
    "print(f\"Tiempo de ejecución: {time() - initial_time}\")"
   ]
  },
  {
   "cell_type": "markdown",
   "metadata": {},
   "source": [
    "# Q2 - TOP Emojis - Memoria Optimizada: \n",
    "\n",
    "El siguiente código entrega los 10 emojis más utilizados junto con su conteo optimizando el uso de memoria. \n",
    "\n",
    "Fue un desafío bastante dificil por el hecho de utilizar la librería emoji. Según la documentación, se cambió la forma en obtener el listado de los emojis, lo que puede generar un problema según la versión de la librería que se esté utilizando. \n",
    "\n",
    "Para lograr el objetivo de optimizar la memoria, el código siguiente hace un conteo de los emojis mientras se lee cada línea del archivo utilizando un diccionario. Esto evita que se almacenen todos los emojis en una lista, lo que consumiría memoria adicional. \n",
    "\n",
    "Ademas, se utiliza el método most_common que resultó ser más eficiente en memoria para obtener los 10 emojis más utilizados. "
   ]
  },
  {
   "cell_type": "code",
   "execution_count": 18,
   "metadata": {},
   "outputs": [
    {
     "name": "stdout",
     "output_type": "stream",
     "text": [
      "Inicio del proceso\n",
      "[('🙏', 7286), ('😂', 3072), ('🚜', 2972), ('✊', 2411), ('🌾', 2363), ('🏻', 2080), ('❤', 1779), ('🤣', 1668), ('🏽', 1218), ('👇', 1108)]\n",
      "Tiempo de ejecución: 2.873704433441162\n"
     ]
    }
   ],
   "source": [
    "#Importamos la funcion de archivo python en el mismo directorio\n",
    "from q2_memory import q2_memory\n",
    "\n",
    "#Inicio del marcador para medir tiempo\n",
    "initial_time = time()\n",
    "\n",
    "#Guardamos el resultado\n",
    "resultado_q2_memory = q2_memory(file_path)\n",
    "\n",
    "#Imprimimos\n",
    "print(resultado_q2_memory)\n",
    "print(f\"Tiempo de ejecución: {time() - initial_time}\")"
   ]
  },
  {
   "cell_type": "markdown",
   "metadata": {},
   "source": [
    "# Q2 - TOP Emojis - Tiempo Optimizado: \n",
    "\n",
    "El siguiente código entrega los 10 emojis más utilizados junto con su conteo optimizando el tiempo de ejecución.\n",
    "\n",
    "Según las pruebas que estuvimos realizando, se identificó que el tiempo de ejecución podría reducirse usando una expresión regular que reemplace el ciclo for para verificar si el texto que se está analizando corresponde a un emoji. Sin embargo, los resultados a diferencia del código anterior, son algo distintos. \n",
    "La expresión regular usada es la siguiente \"emoji_pattern = re.compile(r'[\\U0001F300-\\U0001F64F\\U0001F680-\\U0001F6FF\\u2600-\\u26FF\\u2700-\\u27BF]')\".\n",
    "\n",
    "El objetivo de dicha expresión es abarcar los rangos de códigos unicode asignados a los emojis, sin embargo, podemos ver que no considera un emoji ('🤣') en comparación con la salida anterior. \n",
    "Luego de hacer un analisis, se pudo identificar que para usar esta opción de expresión regular, es necesario tener en consideración posibles rangos de códigos unicode que no estén incluídos, como el código \\U0001f600 que pertenece a ('🤣').\n",
    "\n",
    "Para finalizar, se dejará el código con la expresión regular, para demostrar que el tiempo de ejecución si puede optimizarse. "
   ]
  },
  {
   "cell_type": "code",
   "execution_count": 19,
   "metadata": {},
   "outputs": [
    {
     "name": "stdout",
     "output_type": "stream",
     "text": [
      "Inicio del proceso\n",
      "[('🙏', 7286), ('😂', 3072), ('🚜', 2972), ('✊', 2411), ('🌾', 2363), ('🏻', 2080), ('❤', 1779), ('🏽', 1218), ('👇', 1108), ('💚', 1040)]\n",
      "Tiempo de ejecución: 2.2064199447631836\n"
     ]
    }
   ],
   "source": [
    "#Importamos la funcion de archivo python en el mismo directorio\n",
    "from q2_time import q2_time\n",
    "\n",
    "#Inicio del marcador para medir tiempo\n",
    "initial_time = time()\n",
    "\n",
    "#Guardamos el resultado\n",
    "resultado_q2_time = q2_time(file_path)\n",
    "\n",
    "#Imprimimos\n",
    "print(resultado_q2_time)\n",
    "print(f\"Tiempo de ejecución: {time() - initial_time}\")"
   ]
  },
  {
   "cell_type": "markdown",
   "metadata": {},
   "source": [
    "# Q3 - TOP Usuarios - Memoria Optimizada:\n",
    "\n",
    "El siguiente código entrega el top 10 histórico de usuarios (username) más influyentes en función del conteo de las menciones (@) que registra cada uno de ellos optimizando la memoria.\n",
    "\n",
    "El desarrollo del siguiente código no fue tan complejo luego de haber realizado los dos anteriores. Para la optimización en memoria, se consideró un procesamiento al mismo tiempo que se procesa línea por línea, lo que permite no cargar todo el archivo en memoria. \n",
    "\n",
    "El código es eficiente en memoria ya que solo mantiene las cuentas de los nombres. \n"
   ]
  },
  {
   "cell_type": "code",
   "execution_count": 20,
   "metadata": {},
   "outputs": [
    {
     "name": "stdout",
     "output_type": "stream",
     "text": [
      "Iniciando test\n",
      "[('narendramodi', 2265), ('Kisanektamorcha', 1840), ('RakeshTikaitBKU', 1644), ('PMOIndia', 1427), ('RahulGandhi', 1146), ('GretaThunberg', 1048), ('RaviSinghKA', 1019), ('rihanna', 986), ('UNHumanRights', 962), ('meenaharris', 926)]\n",
      "Tiempo de ejecución: 2.0469696521759033\n"
     ]
    }
   ],
   "source": [
    "#Importamos la funcion de archivo python en el mismo directorio\n",
    "from q3_memory import q3_memory\n",
    "\n",
    "#Inicio del marcador para medir tiempo\n",
    "initial_time = time()\n",
    "\n",
    "#Guardamos el resultado\n",
    "resultado_q3_memory = q3_memory(file_path)\n",
    "\n",
    "#Imprimimos\n",
    "print(resultado_q3_memory)\n",
    "print(f\"Tiempo de ejecución: {time() - initial_time}\")"
   ]
  },
  {
   "cell_type": "markdown",
   "metadata": {},
   "source": [
    "# Q3 - TOP Usuarios - Tiempo Optimizado:\n",
    "\n",
    "El siguiente código entrega el top 10 histórico de usuarios (username) más influyentes en función del conteo de las menciones (@) que registra cada uno de ellos optimizando el tiempo de ejecución.\n",
    "\n",
    "Se incorporó una función particular para hacer una lectura en bloques y procesarlas con un buffer que se puede ajustar según la memoria disponible en cada máquina. Esto puede ser modificable según el equipo en ejecución. \n",
    "Además, se puede utilizar herramientas como 'cProfile' para medir el rendimiento y ajustar dicho buffer según los resultados.\n",
    "\n",
    "Para este caso, la diferencia en tiempo comparado con la optimización de memoria es bastante leve.\n"
   ]
  },
  {
   "cell_type": "code",
   "execution_count": 21,
   "metadata": {},
   "outputs": [
    {
     "name": "stdout",
     "output_type": "stream",
     "text": [
      "Inicio del proceso\n",
      "[('narendramodi', 2265), ('Kisanektamorcha', 1840), ('RakeshTikaitBKU', 1644), ('PMOIndia', 1427), ('RahulGandhi', 1146), ('GretaThunberg', 1048), ('RaviSinghKA', 1019), ('rihanna', 986), ('UNHumanRights', 962), ('meenaharris', 926)]\n",
      "Tiempo de ejecución: 2.0743510723114014\n"
     ]
    }
   ],
   "source": [
    "#Importamos la funcion de archivo python en el mismo directorio\n",
    "from q3_time import q3_time\n",
    "\n",
    "#Inicio del marcador para medir tiempo\n",
    "initial_time = time()\n",
    "\n",
    "#Guardamos el resultado\n",
    "resultado_q3_time = q3_time(file_path)\n",
    "\n",
    "#Imprimimos\n",
    "print(resultado_q3_time)\n",
    "print(f\"Tiempo de ejecución: {time() - initial_time}\")"
   ]
  }
 ],
 "metadata": {
  "kernelspec": {
   "display_name": "Python 3",
   "language": "python",
   "name": "python3"
  },
  "language_info": {
   "codemirror_mode": {
    "name": "ipython",
    "version": 3
   },
   "file_extension": ".py",
   "mimetype": "text/x-python",
   "name": "python",
   "nbconvert_exporter": "python",
   "pygments_lexer": "ipython3",
   "version": "3.12.3"
  },
  "orig_nbformat": 4
 },
 "nbformat": 4,
 "nbformat_minor": 2
}
